{
 "metadata": {
  "language_info": {
   "codemirror_mode": {
    "name": "ipython",
    "version": 3
   },
   "file_extension": ".py",
   "mimetype": "text/x-python",
   "name": "python",
   "nbconvert_exporter": "python",
   "pygments_lexer": "ipython3",
   "version": "3.8.3-final"
  },
  "orig_nbformat": 2,
  "kernelspec": {
   "name": "python3",
   "display_name": "Python 3.8.3 64-bit ('win_venv': venv)",
   "metadata": {
    "interpreter": {
     "hash": "b73f5e05a964cce438c6982363da54ceba2d1b1ba4cf8237912d5c08e3649a88"
    }
   }
  }
 },
 "nbformat": 4,
 "nbformat_minor": 2,
 "cells": [
  {
   "cell_type": "code",
   "execution_count": 1,
   "metadata": {},
   "outputs": [],
   "source": [
    "import numpy as np \n",
    "import pandas as pd \n",
    "from sklearn.linear_model import LogisticRegression\n",
    "from sklearn import metrics"
   ]
  },
  {
   "cell_type": "code",
   "execution_count": 2,
   "metadata": {},
   "outputs": [],
   "source": [
    "train_data = pd.read_csv('candy_data_3.csv', delimiter=',', index_col='competitorname')\n",
    "train_data = train_data[(train_data.index != 'Almond Joy') & (train_data.index != 'Dum Dums') &(train_data.index != 'Mr Good Bar') ]"
   ]
  },
  {
   "cell_type": "code",
   "execution_count": 3,
   "metadata": {},
   "outputs": [],
   "source": [
    "x_train = pd.DataFrame(train_data.drop(['winpercent', 'Y'], axis=1))\n",
    "y_train = train_data['Y']\n"
   ]
  },
  {
   "cell_type": "code",
   "execution_count": 4,
   "metadata": {},
   "outputs": [
    {
     "output_type": "execute_result",
     "data": {
      "text/plain": [
       "LogisticRegression(random_state=2019)"
      ]
     },
     "metadata": {},
     "execution_count": 4
    }
   ],
   "source": [
    "logreg = LogisticRegression(random_state=2019, solver='lbfgs')\n",
    "logreg.fit(x_train, y_train)"
   ]
  },
  {
   "cell_type": "code",
   "execution_count": 5,
   "metadata": {},
   "outputs": [
    {
     "output_type": "execute_result",
     "data": {
      "text/plain": [
       "                           chocolate  fruity  caramel  peanutyalmondy  nougat  \\\n",
       "competitorname                                                                  \n",
       "Sugar Babies                       0       1        1               0       0   \n",
       "Sugar Daddy                        1       0        0               0       1   \n",
       "Super Bubble                       0       1        0               0       0   \n",
       "Swedish Fish                       0       1        0               0       0   \n",
       "Tootsie Pop                        1       0        0               0       0   \n",
       "Tootsie Roll Juniors               1       0        0               0       0   \n",
       "Tootsie Roll Midgies               1       0        0               0       0   \n",
       "Tootsie Roll Snack Bars            1       0        0               0       0   \n",
       "Trolli Sour Bites                  0       1        0               0       0   \n",
       "Twix                               0       1        0               0       0   \n",
       "Twizzlers                          0       1        0               0       0   \n",
       "Warheads                           0       1        0               0       0   \n",
       "Welchs Fruit Snacks                0       1        0               0       0   \n",
       "Werthers Original Caramel          1       0        1               0       0   \n",
       "Whoppers                           1       0        0               0       0   \n",
       "\n",
       "                           crispedricewafer  hard  bar  pluribus  \\\n",
       "competitorname                                                     \n",
       "Sugar Babies                              0     1    0         1   \n",
       "Sugar Daddy                               0     1    0         0   \n",
       "Super Bubble                              0     0    0         0   \n",
       "Swedish Fish                              0     0    0         1   \n",
       "Tootsie Pop                               0     0    0         0   \n",
       "Tootsie Roll Juniors                      0     0    0         0   \n",
       "Tootsie Roll Midgies                      0     0    0         1   \n",
       "Tootsie Roll Snack Bars                   0     0    1         0   \n",
       "Trolli Sour Bites                         0     0    0         1   \n",
       "Twix                                      0     0    0         0   \n",
       "Twizzlers                                 0     0    0         0   \n",
       "Warheads                                  0     1    0         0   \n",
       "Welchs Fruit Snacks                       0     0    0         1   \n",
       "Werthers Original Caramel                 0     1    0         0   \n",
       "Whoppers                                  0     0    0         1   \n",
       "\n",
       "                           sugarpercent  pricepercent  Y  \n",
       "competitorname                                            \n",
       "Sugar Babies                   0.647364       0.76700  0  \n",
       "Sugar Daddy                    0.418000       0.32500  0  \n",
       "Super Bubble                   0.162000       0.11600  0  \n",
       "Swedish Fish                   0.604000       0.75500  1  \n",
       "Tootsie Pop                    0.876560       0.56540  1  \n",
       "Tootsie Roll Juniors           0.313000       0.51100  0  \n",
       "Tootsie Roll Midgies           0.174000       0.01100  0  \n",
       "Tootsie Roll Snack Bars        0.465000       0.32500  1  \n",
       "Trolli Sour Bites              0.313000       0.25500  0  \n",
       "Twix                           0.735430       0.86634  1  \n",
       "Twizzlers                      0.220000       0.11600  0  \n",
       "Warheads                       0.093000       0.11600  0  \n",
       "Welchs Fruit Snacks            0.313000       0.31300  0  \n",
       "Werthers Original Caramel      0.186000       0.26700  0  \n",
       "Whoppers                       0.872000       0.84800  1  "
      ],
      "text/html": "<div>\n<style scoped>\n    .dataframe tbody tr th:only-of-type {\n        vertical-align: middle;\n    }\n\n    .dataframe tbody tr th {\n        vertical-align: top;\n    }\n\n    .dataframe thead th {\n        text-align: right;\n    }\n</style>\n<table border=\"1\" class=\"dataframe\">\n  <thead>\n    <tr style=\"text-align: right;\">\n      <th></th>\n      <th>chocolate</th>\n      <th>fruity</th>\n      <th>caramel</th>\n      <th>peanutyalmondy</th>\n      <th>nougat</th>\n      <th>crispedricewafer</th>\n      <th>hard</th>\n      <th>bar</th>\n      <th>pluribus</th>\n      <th>sugarpercent</th>\n      <th>pricepercent</th>\n      <th>Y</th>\n    </tr>\n    <tr>\n      <th>competitorname</th>\n      <th></th>\n      <th></th>\n      <th></th>\n      <th></th>\n      <th></th>\n      <th></th>\n      <th></th>\n      <th></th>\n      <th></th>\n      <th></th>\n      <th></th>\n      <th></th>\n    </tr>\n  </thead>\n  <tbody>\n    <tr>\n      <th>Sugar Babies</th>\n      <td>0</td>\n      <td>1</td>\n      <td>1</td>\n      <td>0</td>\n      <td>0</td>\n      <td>0</td>\n      <td>1</td>\n      <td>0</td>\n      <td>1</td>\n      <td>0.647364</td>\n      <td>0.76700</td>\n      <td>0</td>\n    </tr>\n    <tr>\n      <th>Sugar Daddy</th>\n      <td>1</td>\n      <td>0</td>\n      <td>0</td>\n      <td>0</td>\n      <td>1</td>\n      <td>0</td>\n      <td>1</td>\n      <td>0</td>\n      <td>0</td>\n      <td>0.418000</td>\n      <td>0.32500</td>\n      <td>0</td>\n    </tr>\n    <tr>\n      <th>Super Bubble</th>\n      <td>0</td>\n      <td>1</td>\n      <td>0</td>\n      <td>0</td>\n      <td>0</td>\n      <td>0</td>\n      <td>0</td>\n      <td>0</td>\n      <td>0</td>\n      <td>0.162000</td>\n      <td>0.11600</td>\n      <td>0</td>\n    </tr>\n    <tr>\n      <th>Swedish Fish</th>\n      <td>0</td>\n      <td>1</td>\n      <td>0</td>\n      <td>0</td>\n      <td>0</td>\n      <td>0</td>\n      <td>0</td>\n      <td>0</td>\n      <td>1</td>\n      <td>0.604000</td>\n      <td>0.75500</td>\n      <td>1</td>\n    </tr>\n    <tr>\n      <th>Tootsie Pop</th>\n      <td>1</td>\n      <td>0</td>\n      <td>0</td>\n      <td>0</td>\n      <td>0</td>\n      <td>0</td>\n      <td>0</td>\n      <td>0</td>\n      <td>0</td>\n      <td>0.876560</td>\n      <td>0.56540</td>\n      <td>1</td>\n    </tr>\n    <tr>\n      <th>Tootsie Roll Juniors</th>\n      <td>1</td>\n      <td>0</td>\n      <td>0</td>\n      <td>0</td>\n      <td>0</td>\n      <td>0</td>\n      <td>0</td>\n      <td>0</td>\n      <td>0</td>\n      <td>0.313000</td>\n      <td>0.51100</td>\n      <td>0</td>\n    </tr>\n    <tr>\n      <th>Tootsie Roll Midgies</th>\n      <td>1</td>\n      <td>0</td>\n      <td>0</td>\n      <td>0</td>\n      <td>0</td>\n      <td>0</td>\n      <td>0</td>\n      <td>0</td>\n      <td>1</td>\n      <td>0.174000</td>\n      <td>0.01100</td>\n      <td>0</td>\n    </tr>\n    <tr>\n      <th>Tootsie Roll Snack Bars</th>\n      <td>1</td>\n      <td>0</td>\n      <td>0</td>\n      <td>0</td>\n      <td>0</td>\n      <td>0</td>\n      <td>0</td>\n      <td>1</td>\n      <td>0</td>\n      <td>0.465000</td>\n      <td>0.32500</td>\n      <td>1</td>\n    </tr>\n    <tr>\n      <th>Trolli Sour Bites</th>\n      <td>0</td>\n      <td>1</td>\n      <td>0</td>\n      <td>0</td>\n      <td>0</td>\n      <td>0</td>\n      <td>0</td>\n      <td>0</td>\n      <td>1</td>\n      <td>0.313000</td>\n      <td>0.25500</td>\n      <td>0</td>\n    </tr>\n    <tr>\n      <th>Twix</th>\n      <td>0</td>\n      <td>1</td>\n      <td>0</td>\n      <td>0</td>\n      <td>0</td>\n      <td>0</td>\n      <td>0</td>\n      <td>0</td>\n      <td>0</td>\n      <td>0.735430</td>\n      <td>0.86634</td>\n      <td>1</td>\n    </tr>\n    <tr>\n      <th>Twizzlers</th>\n      <td>0</td>\n      <td>1</td>\n      <td>0</td>\n      <td>0</td>\n      <td>0</td>\n      <td>0</td>\n      <td>0</td>\n      <td>0</td>\n      <td>0</td>\n      <td>0.220000</td>\n      <td>0.11600</td>\n      <td>0</td>\n    </tr>\n    <tr>\n      <th>Warheads</th>\n      <td>0</td>\n      <td>1</td>\n      <td>0</td>\n      <td>0</td>\n      <td>0</td>\n      <td>0</td>\n      <td>1</td>\n      <td>0</td>\n      <td>0</td>\n      <td>0.093000</td>\n      <td>0.11600</td>\n      <td>0</td>\n    </tr>\n    <tr>\n      <th>Welchs Fruit Snacks</th>\n      <td>0</td>\n      <td>1</td>\n      <td>0</td>\n      <td>0</td>\n      <td>0</td>\n      <td>0</td>\n      <td>0</td>\n      <td>0</td>\n      <td>1</td>\n      <td>0.313000</td>\n      <td>0.31300</td>\n      <td>0</td>\n    </tr>\n    <tr>\n      <th>Werthers Original Caramel</th>\n      <td>1</td>\n      <td>0</td>\n      <td>1</td>\n      <td>0</td>\n      <td>0</td>\n      <td>0</td>\n      <td>1</td>\n      <td>0</td>\n      <td>0</td>\n      <td>0.186000</td>\n      <td>0.26700</td>\n      <td>0</td>\n    </tr>\n    <tr>\n      <th>Whoppers</th>\n      <td>1</td>\n      <td>0</td>\n      <td>0</td>\n      <td>0</td>\n      <td>0</td>\n      <td>0</td>\n      <td>0</td>\n      <td>0</td>\n      <td>1</td>\n      <td>0.872000</td>\n      <td>0.84800</td>\n      <td>1</td>\n    </tr>\n  </tbody>\n</table>\n</div>"
     },
     "metadata": {},
     "execution_count": 5
    }
   ],
   "source": [
    "test_data = pd.read_csv('candy-test.csv', delimiter=',', index_col='competitorname')\n",
    "x_test = pd.DataFrame(test_data.drop(['Y'], axis=1))\n",
    "y_test = test_data['Y']\n",
    "test_data"
   ]
  },
  {
   "cell_type": "code",
   "execution_count": 11,
   "metadata": {},
   "outputs": [],
   "source": [
    "y_pred = logreg.predict(x_test)"
   ]
  },
  {
   "cell_type": "code",
   "execution_count": 7,
   "metadata": {},
   "outputs": [
    {
     "output_type": "execute_result",
     "data": {
      "text/plain": [
       "array([[0.70808289, 0.29191711],\n",
       "       [0.61618911, 0.38381089],\n",
       "       [0.64919448, 0.35080552],\n",
       "       [0.62002666, 0.37997334],\n",
       "       [0.24606995, 0.75393005],\n",
       "       [0.3162222 , 0.6837778 ],\n",
       "       [0.33443847, 0.66556153],\n",
       "       [0.23218423, 0.76781577],\n",
       "       [0.64658373, 0.35341627],\n",
       "       [0.58842161, 0.41157839],\n",
       "       [0.64080422, 0.35919578],\n",
       "       [0.84366164, 0.15633836],\n",
       "       [0.64842267, 0.35157733],\n",
       "       [0.42490124, 0.57509876],\n",
       "       [0.26641301, 0.73358699]])"
      ]
     },
     "metadata": {},
     "execution_count": 7
    }
   ],
   "source": [
    "logreg.predict_proba(x_test)"
   ]
  },
  {
   "cell_type": "code",
   "execution_count": 10,
   "metadata": {},
   "outputs": [
    {
     "output_type": "execute_result",
     "data": {
      "text/plain": [
       "0.6"
      ]
     },
     "metadata": {},
     "execution_count": 10
    }
   ],
   "source": [
    "metrics.recall_score(y_test, y_pred)"
   ]
  },
  {
   "cell_type": "code",
   "execution_count": 12,
   "metadata": {},
   "outputs": [
    {
     "output_type": "execute_result",
     "data": {
      "text/plain": [
       "0.5"
      ]
     },
     "metadata": {},
     "execution_count": 12
    }
   ],
   "source": [
    "metrics.precision_score(y_test, y_pred)"
   ]
  },
  {
   "cell_type": "code",
   "execution_count": 16,
   "metadata": {},
   "outputs": [
    {
     "output_type": "execute_result",
     "data": {
      "text/plain": [
       "0.86"
      ]
     },
     "metadata": {},
     "execution_count": 16
    }
   ],
   "source": [
    "y_pred_proba = logreg.predict_proba(x_test)[:,1] # вероятности отнесения к классу 1\n",
    "metrics.roc_auc_score(y_test, y_pred_proba)"
   ]
  },
  {
   "cell_type": "code",
   "execution_count": null,
   "metadata": {},
   "outputs": [],
   "source": []
  }
 ]
}