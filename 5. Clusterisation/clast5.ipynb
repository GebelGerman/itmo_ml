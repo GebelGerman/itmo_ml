{
 "metadata": {
  "language_info": {
   "codemirror_mode": {
    "name": "ipython",
    "version": 3
   },
   "file_extension": ".py",
   "mimetype": "text/x-python",
   "name": "python",
   "nbconvert_exporter": "python",
   "pygments_lexer": "ipython3",
   "version": "3.9.0-final"
  },
  "orig_nbformat": 2,
  "kernelspec": {
   "name": "python3",
   "display_name": "Python 3.9.0 64-bit ('mac_venv': venv)",
   "metadata": {
    "interpreter": {
     "hash": "2b9d145150b82614e0efb48105d315ce72233e4c23137b1324ac142a771beb66"
    }
   }
  }
 },
 "nbformat": 4,
 "nbformat_minor": 2,
 "cells": [
  {
   "cell_type": "code",
   "execution_count": 18,
   "metadata": {},
   "outputs": [],
   "source": [
    "c1 = [[1,2],[0,3],[-1,1],[0,-4],[4, -2]]\n",
    "c2 = [[1,2],[0,3],[-1,1],[0,-4],[4, -2]]"
   ]
  },
  {
   "cell_type": "code",
   "execution_count": 24,
   "metadata": {},
   "outputs": [
    {
     "output_type": "execute_result",
     "data": {
      "text/plain": [
       "[[0.0, 1.41421, 2.23607, 6.08276, 5.0],\n",
       " [1.41421, 0.0, 2.23607, 7.0, 6.40312],\n",
       " [2.23607, 2.23607, 0.0, 5.09902, 5.83095],\n",
       " [6.08276, 7.0, 5.09902, 0.0, 4.47214],\n",
       " [5.0, 6.40312, 5.83095, 4.47214, 0.0]]"
      ]
     },
     "metadata": {},
     "execution_count": 24
    }
   ],
   "source": [
    "ds1 = []\n",
    "for i in c1:\n",
    "    ds = []\n",
    "    for j in c2:\n",
    "        d = ((i[0]-j[0])**2+(i[1]-j[1])**2)**(1/2)\n",
    "        ds.append(float('{:.5f}'.format(d)))\n",
    "    ds1.append(ds)\n",
    "ds1"
   ]
  },
  {
   "cell_type": "code",
   "execution_count": 23,
   "metadata": {},
   "outputs": [
    {
     "output_type": "stream",
     "name": "stdout",
     "text": [
      "0.0\n0.0\n0.0\n0.0\n0.0\n"
     ]
    }
   ],
   "source": [
    "for i in ds1:\n",
    "    "
   ]
  },
  {
   "cell_type": "code",
   "execution_count": null,
   "metadata": {},
   "outputs": [],
   "source": []
  }
 ]
}