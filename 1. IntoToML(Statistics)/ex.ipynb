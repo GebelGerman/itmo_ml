{
 "metadata": {
  "language_info": {
   "codemirror_mode": {
    "name": "ipython",
    "version": 3
   },
   "file_extension": ".py",
   "mimetype": "text/x-python",
   "name": "python",
   "nbconvert_exporter": "python",
   "pygments_lexer": "ipython3",
   "version": "3.9.1-final"
  },
  "orig_nbformat": 2,
  "kernelspec": {
   "name": "python3",
   "display_name": "Python 3.9.1 64-bit ('mac_venv': venv)",
   "metadata": {
    "interpreter": {
     "hash": "96f7c3a5e417b979f3d3ae6528a4a19751b10869b6aae2bb1eb30a779d95b734"
    }
   }
  }
 },
 "nbformat": 4,
 "nbformat_minor": 2,
 "cells": [
  {
   "cell_type": "code",
   "execution_count": 29,
   "metadata": {},
   "outputs": [],
   "source": [
    "import numpy as np \n",
    "import pandas as pd"
   ]
  },
  {
   "cell_type": "code",
   "execution_count": 30,
   "metadata": {},
   "outputs": [
    {
     "output_type": "execute_result",
     "data": {
      "text/plain": [
       "               Region_RU           Region_EN  AVG_Salary  Population  \\\n",
       "0         Алтайский край        Altai Region       25960      218866   \n",
       "1       Амурская область         Amur Region       43156      793194   \n",
       "2  Архангельская область  Arkhangelsk Region       47526     1144119   \n",
       "3   Астраханская область    Astrakhan Region       32166     1014065   \n",
       "4   Белгородская область     Belgorod Region       31163     1547418   \n",
       "\n",
       "   Unnamed: 4  \n",
       "0         NaN  \n",
       "1         NaN  \n",
       "2         NaN  \n",
       "3         NaN  \n",
       "4         NaN  "
      ],
      "text/html": "<div>\n<style scoped>\n    .dataframe tbody tr th:only-of-type {\n        vertical-align: middle;\n    }\n\n    .dataframe tbody tr th {\n        vertical-align: top;\n    }\n\n    .dataframe thead th {\n        text-align: right;\n    }\n</style>\n<table border=\"1\" class=\"dataframe\">\n  <thead>\n    <tr style=\"text-align: right;\">\n      <th></th>\n      <th>Region_RU</th>\n      <th>Region_EN</th>\n      <th>AVG_Salary</th>\n      <th>Population</th>\n      <th>Unnamed: 4</th>\n    </tr>\n  </thead>\n  <tbody>\n    <tr>\n      <th>0</th>\n      <td>Алтайский край</td>\n      <td>Altai Region</td>\n      <td>25960</td>\n      <td>218866</td>\n      <td>NaN</td>\n    </tr>\n    <tr>\n      <th>1</th>\n      <td>Амурская область</td>\n      <td>Amur Region</td>\n      <td>43156</td>\n      <td>793194</td>\n      <td>NaN</td>\n    </tr>\n    <tr>\n      <th>2</th>\n      <td>Архангельская область</td>\n      <td>Arkhangelsk Region</td>\n      <td>47526</td>\n      <td>1144119</td>\n      <td>NaN</td>\n    </tr>\n    <tr>\n      <th>3</th>\n      <td>Астраханская область</td>\n      <td>Astrakhan Region</td>\n      <td>32166</td>\n      <td>1014065</td>\n      <td>NaN</td>\n    </tr>\n    <tr>\n      <th>4</th>\n      <td>Белгородская область</td>\n      <td>Belgorod Region</td>\n      <td>31163</td>\n      <td>1547418</td>\n      <td>NaN</td>\n    </tr>\n  </tbody>\n</table>\n</div>"
     },
     "metadata": {},
     "execution_count": 30
    }
   ],
   "source": [
    "data = pd.read_csv('salary_and_population.csv', delimiter=',')\n",
    "data.head()"
   ]
  },
  {
   "cell_type": "code",
   "execution_count": 31,
   "metadata": {},
   "outputs": [
    {
     "output_type": "execute_result",
     "data": {
      "text/plain": [
       "               Region_RU           Region_EN  AVG_Salary  Population  \\\n",
       "0         Алтайский край        Altai Region       25960      218866   \n",
       "1       Амурская область         Amur Region       43156      793194   \n",
       "2  Архангельская область  Arkhangelsk Region       47526     1144119   \n",
       "3   Астраханская область    Astrakhan Region       32166     1014065   \n",
       "4   Белгородская область     Belgorod Region       31163     1547418   \n",
       "\n",
       "   Unnamed: 4  \n",
       "0         NaN  \n",
       "1         NaN  \n",
       "2         NaN  \n",
       "3         NaN  \n",
       "4         NaN  "
      ],
      "text/html": "<div>\n<style scoped>\n    .dataframe tbody tr th:only-of-type {\n        vertical-align: middle;\n    }\n\n    .dataframe tbody tr th {\n        vertical-align: top;\n    }\n\n    .dataframe thead th {\n        text-align: right;\n    }\n</style>\n<table border=\"1\" class=\"dataframe\">\n  <thead>\n    <tr style=\"text-align: right;\">\n      <th></th>\n      <th>Region_RU</th>\n      <th>Region_EN</th>\n      <th>AVG_Salary</th>\n      <th>Population</th>\n      <th>Unnamed: 4</th>\n    </tr>\n  </thead>\n  <tbody>\n    <tr>\n      <th>0</th>\n      <td>Алтайский край</td>\n      <td>Altai Region</td>\n      <td>25960</td>\n      <td>218866</td>\n      <td>NaN</td>\n    </tr>\n    <tr>\n      <th>1</th>\n      <td>Амурская область</td>\n      <td>Amur Region</td>\n      <td>43156</td>\n      <td>793194</td>\n      <td>NaN</td>\n    </tr>\n    <tr>\n      <th>2</th>\n      <td>Архангельская область</td>\n      <td>Arkhangelsk Region</td>\n      <td>47526</td>\n      <td>1144119</td>\n      <td>NaN</td>\n    </tr>\n    <tr>\n      <th>3</th>\n      <td>Астраханская область</td>\n      <td>Astrakhan Region</td>\n      <td>32166</td>\n      <td>1014065</td>\n      <td>NaN</td>\n    </tr>\n    <tr>\n      <th>4</th>\n      <td>Белгородская область</td>\n      <td>Belgorod Region</td>\n      <td>31163</td>\n      <td>1547418</td>\n      <td>NaN</td>\n    </tr>\n  </tbody>\n</table>\n</div>"
     },
     "metadata": {},
     "execution_count": 31
    }
   ],
   "source": [
    "cond = (data['Region_RU'] != 'Новгородская область') & (data['Region_RU'] != 'Республика Дагестан') & (data['Region_RU'] != 'Кабардино-Балкарская Республика') & (data['Region_RU'] != 'Ставропольский край')\n",
    "work_data = data[cond]\n",
    "work_data.head()"
   ]
  },
  {
   "cell_type": "code",
   "execution_count": 32,
   "metadata": {},
   "outputs": [],
   "source": [
    "salary = work_data['AVG_Salary']"
   ]
  },
  {
   "cell_type": "code",
   "execution_count": 33,
   "metadata": {},
   "outputs": [
    {
     "output_type": "stream",
     "name": "stdout",
     "text": [
      "33137.0\n"
     ]
    }
   ],
   "source": [
    "median = salary.median()\n",
    "print(median)"
   ]
  },
  {
   "cell_type": "code",
   "execution_count": 34,
   "metadata": {},
   "outputs": [
    {
     "output_type": "stream",
     "name": "stdout",
     "text": [
      "39404.432098765436\n"
     ]
    }
   ],
   "source": [
    "avg = salary.mean()\n",
    "print(avg)"
   ]
  },
  {
   "source": [],
   "cell_type": "code",
   "metadata": {},
   "execution_count": null,
   "outputs": []
  },
  {
   "cell_type": "code",
   "execution_count": 35,
   "metadata": {},
   "outputs": [
    {
     "output_type": "stream",
     "name": "stdout",
     "text": [
      "273682720.88736475\n"
     ]
    }
   ],
   "source": [
    "dispersion = salary.var(ddof=0) # S^2\n",
    "print(dispersion)"
   ]
  },
  {
   "cell_type": "code",
   "execution_count": 36,
   "metadata": {},
   "outputs": [
    {
     "output_type": "stream",
     "name": "stdout",
     "text": [
      "16543.358815167034\n"
     ]
    }
   ],
   "source": [
    "sigma = salary.std(ddof=0)\n",
    "print(sigma)"
   ]
  },
  {
   "cell_type": "code",
   "execution_count": null,
   "metadata": {},
   "outputs": [],
   "source": []
  }
 ]
}